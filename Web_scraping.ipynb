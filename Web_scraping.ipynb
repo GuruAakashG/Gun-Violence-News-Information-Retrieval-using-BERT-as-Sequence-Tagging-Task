{
  "nbformat": 4,
  "nbformat_minor": 0,
  "metadata": {
    "colab": {
      "provenance": [],
      "collapsed_sections": []
    },
    "kernelspec": {
      "name": "python3",
      "display_name": "Python 3"
    },
    "language_info": {
      "name": "python"
    },
    "accelerator": "GPU",
    "gpuClass": "standard"
  },
  "cells": [
    {
      "cell_type": "code",
      "source": [
        "!pip install pygooglenews"
      ],
      "metadata": {
        "colab": {
          "base_uri": "https://localhost:8080/"
        },
        "id": "P_HxPYCL776V",
        "outputId": "48772a46-7087-4bd2-86d9-7a4bd824c382"
      },
      "execution_count": null,
      "outputs": [
        {
          "output_type": "stream",
          "name": "stdout",
          "text": [
            "Looking in indexes: https://pypi.org/simple, https://us-python.pkg.dev/colab-wheels/public/simple/\n",
            "Collecting pygooglenews\n",
            "  Downloading pygooglenews-0.1.2-py3-none-any.whl (10 kB)\n",
            "Collecting dateparser<0.8.0,>=0.7.6\n",
            "  Downloading dateparser-0.7.6-py2.py3-none-any.whl (362 kB)\n",
            "\u001b[K     |████████████████████████████████| 362 kB 31.7 MB/s \n",
            "\u001b[?25hCollecting feedparser<6.0.0,>=5.2.1\n",
            "  Downloading feedparser-5.2.1.zip (1.2 MB)\n",
            "\u001b[K     |████████████████████████████████| 1.2 MB 41.8 MB/s \n",
            "\u001b[?25hCollecting beautifulsoup4<5.0.0,>=4.9.1\n",
            "  Downloading beautifulsoup4-4.11.1-py3-none-any.whl (128 kB)\n",
            "\u001b[K     |████████████████████████████████| 128 kB 43.8 MB/s \n",
            "\u001b[?25hCollecting requests<3.0.0,>=2.24.0\n",
            "  Downloading requests-2.28.1-py3-none-any.whl (62 kB)\n",
            "\u001b[K     |████████████████████████████████| 62 kB 1.3 MB/s \n",
            "\u001b[?25hCollecting soupsieve>1.2\n",
            "  Downloading soupsieve-2.3.2.post1-py3-none-any.whl (37 kB)\n",
            "Requirement already satisfied: python-dateutil in /usr/local/lib/python3.7/dist-packages (from dateparser<0.8.0,>=0.7.6->pygooglenews) (2.8.2)\n",
            "Requirement already satisfied: pytz in /usr/local/lib/python3.7/dist-packages (from dateparser<0.8.0,>=0.7.6->pygooglenews) (2022.5)\n",
            "Requirement already satisfied: tzlocal in /usr/local/lib/python3.7/dist-packages (from dateparser<0.8.0,>=0.7.6->pygooglenews) (1.5.1)\n",
            "Requirement already satisfied: regex!=2019.02.19 in /usr/local/lib/python3.7/dist-packages (from dateparser<0.8.0,>=0.7.6->pygooglenews) (2022.6.2)\n",
            "Requirement already satisfied: urllib3<1.27,>=1.21.1 in /usr/local/lib/python3.7/dist-packages (from requests<3.0.0,>=2.24.0->pygooglenews) (1.24.3)\n",
            "Requirement already satisfied: charset-normalizer<3,>=2 in /usr/local/lib/python3.7/dist-packages (from requests<3.0.0,>=2.24.0->pygooglenews) (2.1.1)\n",
            "Requirement already satisfied: certifi>=2017.4.17 in /usr/local/lib/python3.7/dist-packages (from requests<3.0.0,>=2.24.0->pygooglenews) (2022.9.24)\n",
            "Requirement already satisfied: idna<4,>=2.5 in /usr/local/lib/python3.7/dist-packages (from requests<3.0.0,>=2.24.0->pygooglenews) (2.10)\n",
            "Requirement already satisfied: six>=1.5 in /usr/local/lib/python3.7/dist-packages (from python-dateutil->dateparser<0.8.0,>=0.7.6->pygooglenews) (1.15.0)\n",
            "Building wheels for collected packages: feedparser\n",
            "  Building wheel for feedparser (setup.py) ... \u001b[?25l\u001b[?25hdone\n",
            "  Created wheel for feedparser: filename=feedparser-5.2.1-py3-none-any.whl size=44952 sha256=9bf2ed5641befe643d3e9392b5467a432252e3c2d1f241f0ee87aaf45d5bd06f\n",
            "  Stored in directory: /root/.cache/pip/wheels/29/bf/46/b4a597d435d3aee6c2fa583824897336d65abf13ebe3405b70\n",
            "Successfully built feedparser\n",
            "Installing collected packages: soupsieve, requests, feedparser, dateparser, beautifulsoup4, pygooglenews\n",
            "  Attempting uninstall: requests\n",
            "    Found existing installation: requests 2.23.0\n",
            "    Uninstalling requests-2.23.0:\n",
            "      Successfully uninstalled requests-2.23.0\n",
            "  Attempting uninstall: beautifulsoup4\n",
            "    Found existing installation: beautifulsoup4 4.6.3\n",
            "    Uninstalling beautifulsoup4-4.6.3:\n",
            "      Successfully uninstalled beautifulsoup4-4.6.3\n",
            "Successfully installed beautifulsoup4-4.11.1 dateparser-0.7.6 feedparser-5.2.1 pygooglenews-0.1.2 requests-2.28.1 soupsieve-2.3.2.post1\n"
          ]
        }
      ]
    },
    {
      "cell_type": "code",
      "source": [
        "from pygooglenews import GoogleNews\n",
        "from bs4 import BeautifulSoup\n",
        "\n",
        "import requests\n",
        "import os\n",
        "import re\n",
        "import math\n",
        "import torch"
      ],
      "metadata": {
        "id": "u6l1nAJV7_c_"
      },
      "execution_count": null,
      "outputs": []
    },
    {
      "cell_type": "code",
      "source": [
        "from google.colab import drive\n",
        "drive.mount('/content/gdrive')\n",
        "\n",
        "path = \"/content/gdrive/MyDrive/IT458_project/\""
      ],
      "metadata": {
        "colab": {
          "base_uri": "https://localhost:8080/"
        },
        "id": "3JmzXOPrHJRP",
        "outputId": "300cba51-5be9-4d58-c51a-c0082a9b2c44"
      },
      "execution_count": null,
      "outputs": [
        {
          "output_type": "stream",
          "name": "stdout",
          "text": [
            "Mounted at /content/gdrive\n"
          ]
        }
      ]
    },
    {
      "cell_type": "markdown",
      "source": [
        "# Data Extraction"
      ],
      "metadata": {
        "id": "CdT_9AM_3NlX"
      }
    },
    {
      "cell_type": "code",
      "source": [
        "gn = GoogleNews(lang='en', country='IN')\n",
        "#list_of_search_terms = [\"gun violence\",\"gun death\",\"gun control\",\"gun fire\",\"gun killed\",\"gun injured\",\"gun shot\"]\n",
        "s = gn.search('india gun killed')"
      ],
      "metadata": {
        "id": "YH1thACeGGM2"
      },
      "execution_count": null,
      "outputs": []
    },
    {
      "cell_type": "code",
      "source": [
        "news = []\n",
        "\n",
        "for i in range(0,len(s['entries'])):\n",
        "\n",
        "  # Get title of recent gun violence news\n",
        "  title = s['entries'][i].title\n",
        "  t = len(title)-title[::-1].index('-')-1\n",
        "  article_name = title[t+2:]\n",
        "\n",
        "  # Get url of recent gun violence news\n",
        "  url = s['entries'][i].links[0].href\n",
        "  \n",
        "  # Get the published date recent gun violence news in format MM-DD-YYYY\n",
        "  date = s['entries'][i].published\n",
        "  d = date.split(\" \")\n",
        "  n_month = {'Jan':'01','Feb':'02','Mar':'03','Apr':'04','May':'05','Jun':'06','Jul':'07','Aug':'08','Sep':'09','Oct':'10','Nov':'11','Dec':'12'}\n",
        "  preprocessed_date = n_month[d[2]] + '-' + d[1] + '-' + d[3]\n",
        "\n",
        "  if(url[0:4]==\"http\"):\n",
        "    news.append([article_name,title[0:t],url,preprocessed_date])\n",
        "\n",
        "news = sorted(news,key=lambda x:x[3])[::-1]"
      ],
      "metadata": {
        "id": "s17e9ViZ8cK-"
      },
      "execution_count": null,
      "outputs": []
    },
    {
      "cell_type": "code",
      "source": [
        "for i in news:\n",
        "  print(i)"
      ],
      "metadata": {
        "colab": {
          "base_uri": "https://localhost:8080/"
        },
        "id": "m_b8ubbE_5nX",
        "outputId": "dcf8ca8d-71f7-4d36-8c72-22fc2859cf7f"
      },
      "execution_count": null,
      "outputs": [
        {
          "output_type": "stream",
          "name": "stdout",
          "text": [
            "['Al Jazeera English', 'Suspected rebel killed in fresh Kashmir gun battle ', 'https://news.google.com/__i/rss/rd/articles/CBMiUmh0dHBzOi8vd3d3LmFsamF6ZWVyYS5jb20vbmV3cy8yMDIxLzEyLzE0L2luZGlhLWthc2htaXItc3VzcGVjdGVkLXJlYmVsLWd1bi1iYXR0bGXSAQA?oc=5', '12-14-2021']\n",
            "['Al Jazeera English', 'Dozens of Maoist rebels killed in India gun battle ', 'https://news.google.com/__i/rss/rd/articles/CBMiXGh0dHBzOi8vd3d3LmFsamF6ZWVyYS5jb20vbmV3cy8yMDIxLzExLzEzL2F0LWxlYXN0LTI2LW1hb2lzdC1yZWJlbHMta2lsbGVkLWluLWluZGlhLWd1bmZpZ2h00gEA?oc=5', '11-13-2021']\n",
            "['Times Now', \"Sidhu Moose Wala's song 'Vaar' releases on YouTube, sends shockwaves of tributes and emotions across platforms \", 'https://news.google.com/__i/rss/rd/articles/CBMingFodHRwczovL3d3dy50aW1lc25vd25ld3MuY29tL3ZpcmFsL3NpZGh1LW1vb3NlLXdhbGFzLXNvbmctdmFhci1yZWxlYXNlcy1vbi15b3V0dWJlLXNlbmRzLXNob2Nrd2F2ZXMtb2YtdHJpYnV0ZXMtYW5kLWVtb3Rpb25zLWFjcm9zcy1wbGF0Zm9ybXMtYXJ0aWNsZS05NTM3NjU2MtIBAA?oc=5', '11-08-2022']\n",
            "['Al Jazeera English', 'Myanmar’s anti-coup fighters say injuries harden resolve ', 'https://news.google.com/__i/rss/rd/articles/CBMiXmh0dHBzOi8vd3d3LmFsamF6ZWVyYS5jb20vbmV3cy8yMDIyLzExLzgvbXlhbm1hci1maWdodGVycy1zYXktaW5qdXJpZXMtbWFrZS13aWxscG93ZXItc3Ryb25nZXLSAWJodHRwczovL3d3dy5hbGphemVlcmEuY29tL2FtcC9uZXdzLzIwMjIvMTEvOC9teWFubWFyLWZpZ2h0ZXJzLXNheS1pbmp1cmllcy1tYWtlLXdpbGxwb3dlci1zdHJvbmdlcg?oc=5', '11-08-2022']\n",
            "['The Week', 'Myanmar conflict worries Indian security brass; insurgent groups of Manipur, Mizoram under radar ', 'https://news.google.com/__i/rss/rd/articles/CBMiYGh0dHBzOi8vd3d3LnRoZXdlZWsuaW4vbmV3cy9pbmRpYS8yMDIyLzExLzA4L215YW5tYXItY29uZmxpY3Qtd29ycmllcy1pbmRpYW4tc2VjdXJpdHktYnJhc3MuaHRtbNIBAA?oc=5', '11-08-2022']\n",
            "['indiablooms', 'Pakistan: FIR lodged against gun attack on Imran Khan, PTI rejects ', 'https://news.google.com/__i/rss/rd/articles/CBMieGh0dHBzOi8vd3d3LmluZGlhYmxvb21zLmNvbS93b3JsZC1kZXRhaWxzL1NBLzM2NzU2L3Bha2lzdGFuLWZpci1sb2RnZWQtYWdhaW5zdC1ndW4tYXR0YWNrLW9uLWltcmFuLWtoYW4tcHRpLXJlamVjdHMuaHRtbNIBAA?oc=5', '11-08-2022']\n",
            "['ZAWYA', 'Pakistan police launch probe in gun attack on ex-premier Khan ', 'https://news.google.com/__i/rss/rd/articles/CBMiemh0dHBzOi8vd3d3Lnphd3lhLmNvbS9lbi93b3JsZC9pbmRpYW4tc3ViLWNvbnRpbmVudC9wYWtpc3Rhbi1wb2xpY2UtbGF1bmNoLXByb2JlLWluLWd1bi1hdHRhY2stb24tZXgtcHJlbWllci1raGFuLXRqMHY0aG160gEA?oc=5', '11-08-2022']\n",
            "['United News of India', 'NZ mosques mass killer appeals against conviction ', 'https://news.google.com/__i/rss/rd/articles/CBMiY2h0dHA6Ly93d3cudW5paW5kaWEuY29tL34vbnotbW9zcXVlcy1tYXNzLWtpbGxlci1hcHBlYWxzLWFnYWluc3QtY29udmljdGlvbi9Xb3JsZC9uZXdzLzI4NTY1OTMuaHRtbNIBAA?oc=5', '11-08-2022']\n",
            "['United News of India', 'Constable dies as gun misfires in Telangana ', 'https://news.google.com/__i/rss/rd/articles/CBMiW2h0dHA6Ly93d3cudW5paW5kaWEuY29tL2NvbnN0YWJsZS1kaWVzLWFzLWd1bi1taXNmaXJlcy1pbi10ZWxhbmdhbmEvc291dGgvbmV3cy8yODU2NjQ5Lmh0bWzSAQA?oc=5', '11-08-2022']\n",
            "['CBC.ca', 'Decision in Dillon Whitehawk murder trial set for Dec. 13 ', 'https://news.google.com/__i/rss/rd/articles/CBMiTGh0dHBzOi8vd3d3LmNiYy5jYS9uZXdzL2NhbmFkYS9zYXNrYXRjaGV3YW4vZGlsbG9uLXdoaXRlaGF3ay10cmlhbC0xLjY2NDI5MTPSASBodHRwczovL3d3dy5jYmMuY2EvYW1wLzEuNjY0MjkxMw?oc=5', '11-07-2022']\n",
            "['Hindustan Times', 'Munugode bypoll debacle highlights Congress’s diminishing presence in Telangana ', 'https://news.google.com/__i/rss/rd/articles/CBMijgFodHRwczovL3d3dy5oaW5kdXN0YW50aW1lcy5jb20vaW5kaWEtbmV3cy9tdW51Z29kZS1ieXBvbGwtZGViYWNsZS1oaWdobGlnaHRzLWNvbmdyZXNzLXMtZGltaW5pc2hpbmctcHJlc2VuY2UtaW4tdGVsYW5nYW5hLTEwMTY2Nzg0Nzk4Mjg5NC5odG1s0gEA?oc=5', '11-07-2022']\n",
            "['Vartha Bharati', '46-yr-old Dalit man lynched over drawing of water in Rajasthan ', 'https://news.google.com/__i/rss/rd/articles/CBMiZWh0dHBzOi8vZW5nbGlzaC52YXJ0aGFiaGFyYXRpLmluL2luZGlhLzQ2LXlyLW9sZC1kYWxpdC1tYW4tbHluY2hlZC1vdmVyLWRyYXdpbmctb2Ytd2F0ZXItaW4tcmFqYXN0aGFu0gEA?oc=5', '11-07-2022']\n",
            "['Namibian', \"'Please don't kill me' ... ... slain woman allegedly begs husband for her life \", 'https://news.google.com/__i/rss/rd/articles/CBMibWh0dHBzOi8vd3d3Lm5hbWliaWFuLmNvbS5uYS8xMTc2NjAvcmVhZC9QbGVhc2UtZG9udC1raWxsLW1lLS0tc2xhaW4td29tYW4tYWxsZWdlZGx5LWJlZ3MtaHVzYmFuZC1mb3ItaGVyLWxpZmXSAQA?oc=5', '11-07-2022']\n",
            "['Independent', 'KISORO: Policeman charged with murder of Indian businessman ', 'https://news.google.com/__i/rss/rd/articles/CBMiWWh0dHBzOi8vd3d3LmluZGVwZW5kZW50LmNvLnVnL2tpc29yby1wb2xpY2VtYW4tY2hhcmdlZC13aXRoLW11cmRlci1vZi1pbmRpYW4tYnVzaW5lc3NtYW4v0gEA?oc=5', '11-06-2022']\n",
            "['India Today', '15 killed in fire at Russia cafe after flare gun goes off ', 'https://news.google.com/__i/rss/rd/articles/CBMic2h0dHBzOi8vd3d3LmluZGlhdG9kYXkuaW4vd29ybGQvc3RvcnkvcnVzc2lhLWtvc3Ryb21hLWNhZmUtZmlyZS1raWxsZWQtaW5qdXJlZC1mbGFyZS1ndW4tZGlzcHV0ZS0yMjkzNjI1LTIwMjItMTEtMDXSAQA?oc=5', '11-05-2022']\n",
            "['Times Now', \"Sudhir Suri's murder: This organisation claims responsibility, warns of more attacks \", 'https://news.google.com/__i/rss/rd/articles/CBMihAFodHRwczovL3d3dy50aW1lc25vd25ld3MuY29tL2luZGlhL3N1ZGhpci1zdXJpLW11cmRlci10aGlzLW9yZ2FuaXNhdGlvbi1jbGFpbXMtcmVzcG9uc2liaWxpdHktd2FybnMtb2YtbW9yZS1hdHRhY2tzLWFydGljbGUtOTUzMDYwNzTSAQA?oc=5', '11-04-2022']\n",
            "['India Today', 'Allah has given me another life, says Imran Khan after gun attack ', 'https://news.google.com/__i/rss/rd/articles/CBMingFodHRwczovL3d3dy5pbmRpYXRvZGF5LmluL3dvcmxkL3N0b3J5L2ltcmFuLWtoYW4tc2hvdC1hbGxhaC1oYXMtZ2l2ZW4tbWUtYW5vdGhlci1saWZlLXBha2lzdGFuLWd1bi1hdHRhY2stcmVhbC1mcmVlZG9tLXJhbGx5LXNoZWhiYXotc2hhcmlmLTIyOTI5NTctMjAyMi0xMS0wM9IBAA?oc=5', '11-03-2022']\n",
            "['India Today', 'Gunman who killed 17 at Florida high school gets life in prison ', 'https://news.google.com/__i/rss/rd/articles/CBMicWh0dHBzOi8vd3d3LmluZGlhdG9kYXkuaW4vd29ybGQvc3Rvcnkvbmlrb2xhcy1jcnV6LWZsb3JpZGEtc2Nob29sLXNob290aW5nLWdldHMtbGlmZS1pbi1wcmlzb24tMjI5MjY5NS0yMDIyLTExLTAz0gEA?oc=5', '11-03-2022']\n",
            "['WOODTV.com', 'Grandma after bicyclist shot dead: ‘Somebody’s got to be a monster’ ', 'https://news.google.com/__i/rss/rd/articles/CBMicGh0dHBzOi8vd3d3Lndvb2R0di5jb20vbmV3cy9rZW50LWNvdW50eS9mYW1pbHktaWRlbnRpZmllcy1tYW4tc2hvdC1hbmQta2lsbGVkLW9uLWluZGlhbi1tb3VuZHMtZHJpdmUtaW4td3lvbWluZy_SAXRodHRwczovL3d3dy53b29kdHYuY29tL25ld3Mva2VudC1jb3VudHkvZmFtaWx5LWlkZW50aWZpZXMtbWFuLXNob3QtYW5kLWtpbGxlZC1vbi1pbmRpYW4tbW91bmRzLWRyaXZlLWluLXd5b21pbmcvYW1wLw?oc=5', '11-02-2022']\n",
            "['United News of India', '4 militants including a Pakistani killed in south Kashmir gun battles ', 'https://news.google.com/__i/rss/rd/articles/CBMidWh0dHA6Ly93d3cudW5paW5kaWEuY29tLzQtbWlsaXRhbnRzLWluY2x1ZGluZy1hLXBha2lzdGFuaS1raWxsZWQtaW4tc291dGgta2FzaG1pci1ndW4tYmF0dGxlcy9ub3J0aC9uZXdzLzI4NTI3MzguaHRtbNIBAA?oc=5', '11-01-2022']\n",
            "['News18', 'Two Maoists Killed in Encounter with Police in Chhattisgarh ', 'https://news.google.com/__i/rss/rd/articles/CBMiamh0dHBzOi8vd3d3Lm5ld3MxOC5jb20vbmV3cy9pbmRpYS90d28tbWFvaXN0cy1raWxsZWQtaW4tZW5jb3VudGVyLXdpdGgtcG9saWNlLWluLWNoaGF0dGlzZ2FyaC02MjczODExLmh0bWzSAQA?oc=5', '10-31-2022']\n",
            "['The Guardian', 'Indian states ban guns and airguns to safeguard Amur falcons ', 'https://news.google.com/__i/rss/rd/articles/CBMifWh0dHBzOi8vd3d3LnRoZWd1YXJkaWFuLmNvbS9lbnZpcm9ubWVudC8yMDIyL29jdC8zMS9pbmRpYW4tb2ZmaWNpYWxzLWJhbi1ndW5zLWFpcmd1bnMtYW5kLWNhdGFwdWx0cy10by1zYWZlZ3VhcmQtYW11ci1mYWxjb25z0gF9aHR0cHM6Ly9hbXAudGhlZ3VhcmRpYW4uY29tL2Vudmlyb25tZW50LzIwMjIvb2N0LzMxL2luZGlhbi1vZmZpY2lhbHMtYmFuLWd1bnMtYWlyZ3Vucy1hbmQtY2F0YXB1bHRzLXRvLXNhZmVndWFyZC1hbXVyLWZhbGNvbnM?oc=5', '10-31-2022']\n",
            "['Outlook India', 'Gruesome Killings, Racial Taunts, Vandalism: Indian Diaspora Faces Brunt Of Crimes Globally ', 'https://news.google.com/__i/rss/rd/articles/CBMijgFodHRwczovL3d3dy5vdXRsb29raW5kaWEuY29tL2ludGVybmF0aW9uYWwvZ3J1ZXNvbWUta2lsbGluZ3MtcmFjaWFsLXRhdW50cy12YW5kYWxpc20tZ2xvYmFsLWluZGlhbi1kaWFzcG9yYS1mYWNlcy1icnVudC1vZi1jcmltZXMtLW5ld3MtMjMzNTkw0gEA?oc=5', '10-30-2022']\n",
            "['Times Now', \"Security forces gun down terrorist in encounter in J&K's Kulgam \", 'https://news.google.com/__i/rss/rd/articles/CBMib2h0dHBzOi8vd3d3LnRpbWVzbm93bmV3cy5jb20vaW5kaWEvdGVycm9yaXN0LWtpbGxlZC1pbi1lbmNvdW50ZXItaW4tamtzLWt1bGdhbS1zZWFyY2gtdW5kZXJ3YXktYXJ0aWNsZS05NTEyMzk4NNIBAA?oc=5', '10-27-2022']\n",
            "['The Indian Express', 'Lawyer shot at with air gun in Kerala ', 'https://news.google.com/__i/rss/rd/articles/CBMiSmh0dHBzOi8vaW5kaWFuZXhwcmVzcy5jb20vYXJ0aWNsZS9pbmRpYS9rZXJhbGEva2VyYWxhLWxhd3llci1zaG90LTgyMzI5OTgv0gEA?oc=5', '10-27-2022']\n",
            "['The Indian Express', '2 killed in shooting at St. Louis high school; gunman dead ', 'https://news.google.com/__i/rss/rd/articles/CBMicGh0dHBzOi8vaW5kaWFuZXhwcmVzcy5jb20vYXJ0aWNsZS93b3JsZC9wb2xpY2UtMy1raWxsZWQtaW4tc2hvb3RpbmctYXQtc3QtbG91aXMtaGlnaC1zY2hvb2wtaW4tbWlzc291cmktODIyNzk1NC_SAQA?oc=5', '10-24-2022']\n",
            "['The Indian Express', 'Former chief justice shot dead in Pak | Pakistan News ', 'https://news.google.com/__i/rss/rd/articles/CBMiWWh0dHBzOi8vaW5kaWFuZXhwcmVzcy5jb20vYXJ0aWNsZS9wYWtpc3Rhbi9mb3JtZXItY2hpZWYtanVzdGljZS1zaG90LWRlYWQtaW4tcGFrLTgyMDk3NzUv0gEA?oc=5', '10-15-2022']\n",
            "['The Indian Express', 'Militants gun down 48-year-old in Valley, fourth Kashmiri Pandit killed in a year ', 'https://news.google.com/__i/rss/rd/articles/CBMicGh0dHBzOi8vaW5kaWFuZXhwcmVzcy5jb20vYXJ0aWNsZS9jaXRpZXMvc3JpbmFnYXIva2FzaG1pcmktcGFuZGl0LXNob3QtZGVhZC1ieS1taWxpdGFudHMtaW4tamtzLXNob3BpYW4tODIxMDIyNi_SAQA?oc=5', '10-15-2022']\n",
            "['India Today', '15-year-old behind mass shooting that killed 5 in US’s North Carolina, say cops ', 'https://news.google.com/__i/rss/rd/articles/CBMiZmh0dHBzOi8vd3d3LmluZGlhdG9kYXkuaW4vd29ybGQvc3RvcnkvdXMtbWFzcy1zaG9vdGluZy1zdXNwZWN0LTE1LXllYXItb2xkLXRlZW5hZ2VyLTIyODU1ODEtMjAyMi0xMC0xNdIBAA?oc=5', '10-15-2022']\n",
            "['India Today', '19-year-old shoots self dead with father’s licensed gun in Indore ', 'https://news.google.com/__i/rss/rd/articles/CBMifWh0dHBzOi8vd3d3LmluZGlhdG9kYXkuaW4vY2l0aWVzL2luZG9yZS9zdG9yeS9pbmRvcmUtbmV3cy1tYW4tc2hvb3RzLXNlbGYtZGVhZC1zdWljaWRlLWZhdGhlci1saWNlbnNlZC1ndW4tMjI4MzQ1MC0yMDIyLTEwLTEw0gGBAWh0dHBzOi8vd3d3LmluZGlhdG9kYXkuaW4vYW1wL2NpdGllcy9pbmRvcmUvc3RvcnkvaW5kb3JlLW5ld3MtbWFuLXNob290cy1zZWxmLWRlYWQtc3VpY2lkZS1mYXRoZXItbGljZW5zZWQtZ3VuLTIyODM0NTAtMjAyMi0xMC0xMA?oc=5', '10-10-2022']\n",
            "['The Indian Express', \"Thailand shooting: Thailand's gun culture and past shootings \", 'https://news.google.com/__i/rss/rd/articles/CBMicmh0dHBzOi8vaW5kaWFuZXhwcmVzcy5jb20vYXJ0aWNsZS9leHBsYWluZWQvZXhwbGFpbmVkLWdsb2JhbC90aGFpbGFuZC1zaG9vdGluZy1kYXljYXJlLWNlbnRyZS1ndW4tY3VsdHVyZS04MTk0NDE0L9IBAA?oc=5', '10-07-2022']\n",
            "['India.com', '18 Dead in Gun Attack Inside City Hall in Southern Mexico ', 'https://news.google.com/__i/rss/rd/articles/CBMifGh0dHBzOi8vd3d3LmluZGlhLmNvbS9uZXdzL3dvcmxkL21leGljby1ndW4tYXR0YWNrLXRvdG9sYXBhbi0xOC1kZWFkLWluY2x1ZGluZy1tYXlvci1pbmp1cmVkLWF0dGFjay1ndWVycmVybzU2NzEyNzgtNTY3MTI3OC_SAQA?oc=5', '10-06-2022']\n",
            "['Outlook India', \"'I Hate You Indian', 'Go Back To Your Country', 'Dirty Hindu': 5 Times Indians Faced Abuse In US \", 'https://news.google.com/__i/rss/rd/articles/CBMiigFodHRwczovL3d3dy5vdXRsb29raW5kaWEuY29tL25hdGlvbmFsLy1pLWhhdGUteW91LWluZGlhbi1nby1iYWNrLXRvLXlvdXItY291bnRyeS1kaXJ0eS1oaW5kdS01LXRpbWVzLWluZGlhbnMtZmFjZWQtYWJ1c2UtaW4tdXMtbmV3cy0yMjc5MzDSAQA?oc=5', '10-06-2022']\n",
            "['ABP Live', 'J&K: Indian Army Gun Down Two Terrorists Near LoC In Kupwara, Arms & Ammunition Recovered ', 'https://news.google.com/__i/rss/rd/articles/CBMigQFodHRwczovL25ld3MuYWJwbGl2ZS5jb20vbmV3cy9pbmRpYS9qLWstaW5kaWFuLWFybXktZ3VuLWRvd24tdHdvLXRlcnJvcmlzdHMtbmVhci1sb2MtaW4ta3Vwd2FyYS1hcm1zLWFtbXVuaXRpb24tcmVjb3ZlcmVkLTE1NTUyMDnSAQA?oc=5', '09-25-2022']\n",
            "['NDTV', 'Woman In US Killed After 3-Year-Old Grabbed Unsecured Gun, Say Police ', 'https://news.google.com/__i/rss/rd/articles/CBMibGh0dHBzOi8vd3d3Lm5kdHYuY29tL3dvcmxkLW5ld3Mvd29tYW4taW4tdXMta2lsbGVkLWFmdGVyLTMteWVhci1vbGQtZ3JhYmJlZC11bnNlY3VyZWQtZ3VuLXNheS1wb2xpY2UtMzM3MDMwM9IBAA?oc=5', '09-23-2022']\n",
            "['The Hindu', 'Indian student succumbs to injuries sustained during shooting rampage in Canada ', 'https://news.google.com/__i/rss/rd/articles/CBMijwFodHRwczovL3d3dy50aGVoaW5kdS5jb20vbmV3cy9pbnRlcm5hdGlvbmFsL2luZGlhbi1zdHVkZW50LXN1Y2N1bWJzLXRvLWluanVyaWVzLXN1c3RhaW5lZC1kdXJpbmctc2hvb3RpbmctcmFtcGFnZS1pbi1jYW5hZGEvYXJ0aWNsZTY1OTA5MDI3LmVjZdIBAA?oc=5', '09-19-2022']\n",
            "['The New Indian Express', \"1 killed, 11 injured as gunmen go berserk in Bihar's Begusarai \", 'https://news.google.com/__i/rss/rd/articles/CBMifWh0dHBzOi8vd3d3Lm5ld2luZGlhbmV4cHJlc3MuY29tL25hdGlvbi8yMDIyL3NlcC8xNC8xLWtpbGxlZC0xMS1pbmp1cmVkLWFzLWd1bm1lbi1nby1iZXJzZXJrLWluLWJpaGFycy1iZWd1c2FyYWktMjQ5ODExOS5odG1s0gEA?oc=5', '09-14-2022']\n",
            "['India Today', 'US: 2 dead, 5 injured in Virginia shooting, says police ', 'https://news.google.com/__i/rss/rd/articles/CBMiaWh0dHBzOi8vd3d3LmluZGlhdG9kYXkuaW4vd29ybGQvc3RvcnkvdXMtZGVhZC1pbmp1cmVkLWluLXZpcmdpbmlhLXNob290aW5nLXNheXMtcG9saWNlLTE5OTY0MzQtMjAyMi0wOS0wNNIBbWh0dHBzOi8vd3d3LmluZGlhdG9kYXkuaW4vYW1wL3dvcmxkL3N0b3J5L3VzLWRlYWQtaW5qdXJlZC1pbi12aXJnaW5pYS1zaG9vdGluZy1zYXlzLXBvbGljZS0xOTk2NDM0LTIwMjItMDktMDQ?oc=5', '09-05-2022']\n",
            "['India TV News', 'Two Maoists killed in gun battle with security forces in Jharkhand ', 'https://news.google.com/__i/rss/rd/articles/CBMid2h0dHBzOi8vd3d3LmluZGlhdHZuZXdzLmNvbS9uZXdzL2luZGlhL21hb2lzdHMta2lsbGVkLWluLWd1bi1iYXR0bGUtd2l0aC1zZWN1cml0eS1mb3JjZXMtaW4tamhhcmtoYW5kLTIwMjItMDktMDItODA0OTgz0gEA?oc=5', '09-02-2022']\n",
            "['Outlook India', 'Under The Shadow Of The Gun: How Writers, Artists Facing Death Threats Negotiate Life With Bodyguards ', 'https://news.google.com/__i/rss/rd/articles/CBMilQFodHRwczovL3d3dy5vdXRsb29raW5kaWEuY29tL25hdGlvbmFsL3VuZGVyLXRoZS1zaGFkb3ctb2YtdGhlLWd1bi1ob3ctd3JpdGVycy1hcnRpc3RzLWZhY2luZy1kZWF0aC10aHJlYXRzLW5lZ290aWF0ZS1saWZlLXdpdGgtYm9keWd1YXJkcy1uZXdzLTIxODg5MdIBAA?oc=5', '08-26-2022']\n",
            "['India Today', 'Bike-borne assailants gun down 27-yr-old Pune man in broad daylight ', 'https://news.google.com/__i/rss/rd/articles/CBMicWh0dHBzOi8vd3d3LmluZGlhdG9kYXkuaW4vY2l0aWVzL3B1bmUvc3RvcnkvbWFuLXNob3QtZGVhZC10d28tbW90b3JjeWNsaXN0LWJyb2FkLWRheWxpZ2h0LXB1bmUtMTk5MDk0OS0yMDIyLTA4LTIy0gF1aHR0cHM6Ly93d3cuaW5kaWF0b2RheS5pbi9hbXAvY2l0aWVzL3B1bmUvc3RvcnkvbWFuLXNob3QtZGVhZC10d28tbW90b3JjeWNsaXN0LWJyb2FkLWRheWxpZ2h0LXB1bmUtMTk5MDk0OS0yMDIyLTA4LTIy?oc=5', '08-22-2022']\n",
            "['Outlook India', 'Death In Dandakaranya: In Jungles Of Chhattisgarh, Justice Is Served At The Barrel Of Gun ', 'https://news.google.com/__i/rss/rd/articles/CBMijQFodHRwczovL3d3dy5vdXRsb29raW5kaWEuY29tL25hdGlvbmFsL2RlYXRoLWluLWRhbmRha2FyYW55YS1pbi1qdW5nbGVzLW9mLWNoaGF0dGlzZ2FyaC1qdXN0aWNlLWlzLXNlcnZlZC1hdC10aGUtYmFycmVsLW9mLWd1bi1tYWdhemluZS0yMTQwMzLSAZEBaHR0cHM6Ly93d3cub3V0bG9va2luZGlhLmNvbS9uYXRpb25hbC9kZWF0aC1pbi1kYW5kYWthcmFueWEtaW4tanVuZ2xlcy1vZi1jaGhhdHRpc2dhcmgtanVzdGljZS1pcy1zZXJ2ZWQtYXQtdGhlLWJhcnJlbC1vZi1ndW4tbWFnYXppbmUtMjE0MDMyL2FtcA?oc=5', '08-12-2022']\n",
            "['ThePrint', 'India sees the third-highest firearm-related deaths in the world ', 'https://news.google.com/__i/rss/rd/articles/CBMiYmh0dHBzOi8vdGhlcHJpbnQuaW4vaW5kaWEvaW5kaWEtc2Vlcy10aGUtdGhpcmQtaGlnaGVzdC1maXJlYXJtLXJlbGF0ZWQtZGVhdGhzLWluLXRoZS13b3JsZC8yNzQ1NzYv0gFmaHR0cHM6Ly90aGVwcmludC5pbi9pbmRpYS9pbmRpYS1zZWVzLXRoZS10aGlyZC1oaWdoZXN0LWZpcmVhcm0tcmVsYXRlZC1kZWF0aHMtaW4tdGhlLXdvcmxkLzI3NDU3Ni8_YW1w?oc=5', '08-12-2019']\n",
            "['The Wire', 'Kolkata: One Dead, Another Injured After CISF Jawan Opens Fire at Indian Museum ', 'https://news.google.com/__i/rss/rd/articles/CBMiR2h0dHBzOi8vdGhld2lyZS5pbi9nb3Zlcm5tZW50L2tvbGthdGEtY2lzZi1qYXdhbi1zaG9vdGluZy1pbmRpYW4tbXVzZXVt0gEA?oc=5', '08-07-2022']\n",
            "['Hindustan Times', 'Salman Khan issued weapon licence after death threat ', 'https://news.google.com/__i/rss/rd/articles/CBMic2h0dHBzOi8vd3d3LmhpbmR1c3RhbnRpbWVzLmNvbS9pbmRpYS1uZXdzL3NhbG1hbi1raGFuLWlzc3VlZC13ZWFwb24tbGljZW5jZS1hZnRlci1kZWF0aC10aHJlYXQtMTAxNjU5MjkzNzU1MzEzLmh0bWzSAQA?oc=5', '08-01-2022']\n",
            "['Times of India', \"Maharashtra: Farmer killed by bullet from guard's gun in front of Ahmednagar bank \", 'https://news.google.com/__i/rss/rd/articles/CBMimAFodHRwczovL3RpbWVzb2ZpbmRpYS5pbmRpYXRpbWVzLmNvbS9jaXR5L25hc2hpay9tYWhhcmFzaHRyYS1mYXJtZXIta2lsbGVkLWJ5LWJ1bGxldC1mcm9tLWd1YXJkcy1ndW4taW4tZnJvbnQtb2YtYWhtZWRuYWdhci1iYW5rL2FydGljbGVzaG93LzkzMjQ2OTc2LmNtc9IBAA?oc=5', '07-31-2022']\n",
            "['Business Insider India', '18-year-old who had a toy gun in car shot and killed by off-duty corrections officer, police say ', 'https://news.google.com/__i/rss/rd/articles/CBMiqgFodHRwczovL3d3dy5idXNpbmVzc2luc2lkZXIuaW4vaW50ZXJuYXRpb25hbC9uZXdzLzE4LXllYXItb2xkLXdoby1oYWQtYS10b3ktZ3VuLWluLWNhci1zaG90LWFuZC1raWxsZWQtYnktb2ZmLWR1dHktY29ycmVjdGlvbnMtb2ZmaWNlci1wb2xpY2Utc2F5L2FydGljbGVzaG93LzkzMDczODE3LmNtc9IBrgFodHRwczovL3d3dy5idXNpbmVzc2luc2lkZXIuaW4vaW50ZXJuYXRpb25hbC9uZXdzLzE4LXllYXItb2xkLXdoby1oYWQtYS10b3ktZ3VuLWluLWNhci1zaG90LWFuZC1raWxsZWQtYnktb2ZmLWR1dHktY29ycmVjdGlvbnMtb2ZmaWNlci1wb2xpY2Utc2F5L2FtcF9hcnRpY2xlc2hvdy85MzA3MzgxNy5jbXM?oc=5', '07-23-2022']\n",
            "['NDTV', 'Salman Khan Applies For Gun Licence After Death Threat: Sources ', 'https://news.google.com/__i/rss/rd/articles/CBMiZmh0dHBzOi8vd3d3Lm5kdHYuY29tL2luZGlhLW5ld3Mvc2FsbWFuLWtoYW4tYXBwbGllcy1mb3ItZ3VuLWxpY2VuY2UtYWZ0ZXItZGVhdGgtdGhyZWF0LXNvdXJjZXMtMzE4NDQ4ONIBAA?oc=5', '07-22-2022']\n",
            "['The Indian Express', 'Chief: 3 dead in Indiana mall shooting; witness kills gunman ', 'https://news.google.com/__i/rss/rd/articles/CBMia2h0dHBzOi8vaW5kaWFuZXhwcmVzcy5jb20vYXJ0aWNsZS93b3JsZC9jaGllZi0zLWRlYWQtaW4taW5kaWFuYS1tYWxsLXNob290aW5nLXdpdG5lc3Mta2lsbHMtZ3VubWFuLTgwMzU3MDMv0gEA?oc=5', '07-18-2022']\n",
            "['The Indian Express', \"Man shot at in the face in Delhi's Jahangirpuri, four minors apprehended \", 'https://news.google.com/__i/rss/rd/articles/CBMiYmh0dHBzOi8vaW5kaWFuZXhwcmVzcy5jb20vYXJ0aWNsZS9jaXRpZXMvZGVsaGkvZGVsaGktbWFuLXNob3QtYXQtaW4tdGhlLWZhY2UtamFoYW5naXJwdXJpLTgwMzI4MzQv0gEA?oc=5', '07-16-2022']\n",
            "['Top Stories', \"Gun Violence is a serious public health crisis in India also Moosewala's Murder - Jammu Kashmir Latest News | Tourism | Breaking News J&K \", 'https://news.google.com/__i/rss/rd/articles/CBMibmh0dHBzOi8vd3d3LmRhaWx5ZXhjZWxzaW9yLmNvbS9ndW4tdmlvbGVuY2UtaXMtYS1zZXJpb3VzLXB1YmxpYy1oZWFsdGgtY3Jpc2lzLWluLWluZGlhLWFsc28tbW9vc2V3YWxhcy1tdXJkZXIv0gEA?oc=5', '07-16-2022']\n",
            "['Scroll.in', '‘Killed after snatching officer’s gun’: Why India has the clumsiest police force in the world ', 'https://news.google.com/__i/rss/rd/articles/CBMiemh0dHBzOi8vc2Nyb2xsLmluL2FydGljbGUvOTY3NDAxL2tpbGxlZC1hZnRlci1zbmF0Y2hpbmctb2ZmaWNlcnMtZ3VuLXdoeS1pbmRpYS1oYXMtdGhlLWNsdW1zaWVzdC1wb2xpY2UtZm9yY2UtaW4tdGhlLXdvcmxk0gF-aHR0cHM6Ly9hbXAuc2Nyb2xsLmluL2FydGljbGUvOTY3NDAxL2tpbGxlZC1hZnRlci1zbmF0Y2hpbmctb2ZmaWNlcnMtZ3VuLXdoeS1pbmRpYS1oYXMtdGhlLWNsdW1zaWVzdC1wb2xpY2UtZm9yY2UtaW4tdGhlLXdvcmxk?oc=5', '07-14-2020']\n",
            "['The Tribune India', 'Sidhu Moosewala killing: AK-47, pistols used in crime, say police ', 'https://news.google.com/__i/rss/rd/articles/CBMibmh0dHBzOi8vd3d3LnRyaWJ1bmVpbmRpYS5jb20vbmV3cy9wdW5qYWIvc2lkaHUtbW9vc2V3YWxhLWtpbGxpbmctYWstNDctcGlzdG9scy11c2VkLWluLWNyaW1lLXNheS1wb2xpY2UtNDExODA40gEA?oc=5', '07-13-2022']\n",
            "['India Today', 'Zip gun, the handmade gun used to kill former Japan PM Shinzo Abe ', 'https://news.google.com/__i/rss/rd/articles/CBMifmh0dHBzOi8vd3d3LmluZGlhdG9kYXkuaW4vd29ybGQvc3RvcnkvZm9ybWVyLWphcGFuLXByaW1lLW1pbmlzdGVyLXNoaW56by1hYmUtZGVhdGgtaG9tZW1hZGUtemlwLWd1bi1zaG9vdGVyLTE5NzM0ODMtMjAyMi0wNy0wONIBAA?oc=5', '07-08-2022']\n",
            "['India.com', '200 Shot, Killed in Holiday Weekend Gun Violence Across US ', 'https://news.google.com/__i/rss/rd/articles/CBMiW2h0dHBzOi8vd3d3LmluZGlhLmNvbS91cy8yMDAtc2hvdC1raWxsZWQtaW4taG9saWRheS13ZWVrZW5kLWd1bi12aW9sZW5jZS1hY3Jvc3MtdXMtNTQ5OTE4OC_SAQA?oc=5', '07-07-2022']\n",
            "['The Indian Express', 'Deserted parade, strewn possessions: Mass shooting at Chicago suburb leaves 6 dead ', 'https://news.google.com/__i/rss/rd/articles/CBMiYmh0dHBzOi8vaW5kaWFuZXhwcmVzcy5jb20vcGhvdG9zL3dvcmxkLW5ld3MvdXMtbWFzcy1zaG9vdGluZy1jaGljYWdvLWhpZ2hsYW5kLXBhcmstcGhvdG9zLTgwMDk2NDAv0gFnaHR0cHM6Ly9pbmRpYW5leHByZXNzLmNvbS9waG90b3Mvd29ybGQtbmV3cy91cy1tYXNzLXNob290aW5nLWNoaWNhZ28taGlnaGxhbmQtcGFyay1waG90b3MtODAwOTY0MC9saXRlLw?oc=5', '07-05-2022']\n",
            "['Hindustan Times', 'On camera, Sidhu Moose Wala’s killers celebrate, brandish guns in car | Watch ', 'https://news.google.com/__i/rss/rd/articles/CBMiigFodHRwczovL3d3dy5oaW5kdXN0YW50aW1lcy5jb20vaW5kaWEtbmV3cy9tb29zZS13YWxhLW11cmRlci1raWxsZXJzLXNtaWxlLWF0LWNhbWVyYS1maWxtLXZpZGVvLWJyYW5kaXNoaW5nLWd1bnMtd2F0Y2gtMTAxNjU2OTQ1OTEzNTI4Lmh0bWzSAQA?oc=5', '07-04-2022']\n",
            "['NDTV', 'Indian-Origin Man Shot Dead While Sitting In Parked Car In US: Report ', 'https://news.google.com/__i/rss/rd/articles/CBMibGh0dHBzOi8vd3d3Lm5kdHYuY29tL3dvcmxkLW5ld3MvaW5kaWFuLW9yaWdpbi1tYW4tc2hvdC1kZWFkLXdoaWxlLXNpdHRpbmctaW4tcGFya2VkLWNhci1pbi11cy1yZXBvcnQtMzEwMzU0NdIBAA?oc=5', '06-27-2022']\n",
            "['The Indian Express', \"'He pulled out a gun, put it on my neck': Woman shot at by former schoolmate who was stalking her \", 'https://news.google.com/__i/rss/rd/articles/CBMidGh0dHBzOi8vaW5kaWFuZXhwcmVzcy5jb20vYXJ0aWNsZS9jaXRpZXMvZGVsaGkvaGUtcHVsbGVkLW91dC1ndW4tbmVjay13b21hbi1zaG90LWZvcm1lci1zY2hvb2xtYXRlLXN0YWxraW5nLTc5OTEzMzIv0gEA?oc=5', '06-25-2022']\n",
            "['New York Post', 'Groom fatally shoots friend during bizarre wedding tradition caught on video ', 'https://news.google.com/__i/rss/rd/articles/CBMiT2h0dHBzOi8vbnlwb3N0LmNvbS8yMDIyLzA2LzI0L3dlZGRpbmctZ3Vlc3QtZGllcy1mb2xsb3dpbmctYmFja2ZpcmVkLWd1bi1zdHVudC_SAQA?oc=5', '06-24-2022']\n",
            "['The Indian Express', \"Explained: US passes bill for gun safety, what's in it? \", 'https://news.google.com/__i/rss/rd/articles/CBMiZGh0dHBzOi8vaW5kaWFuZXhwcmVzcy5jb20vYXJ0aWNsZS9leHBsYWluZWQvZXhwbGFpbmVkLXVzLXBhc3Nlcy1iaWxsLWd1bi1zYWZldHktd2hhdHMtaW4taXQtNzk4Nzk0MC_SAQA?oc=5', '06-24-2022']\n",
            "['India Today', 'Nation divided as US Supreme Court expands gun rights after sting of mass shootings ', 'https://news.google.com/__i/rss/rd/articles/CBMid2h0dHBzOi8vd3d3LmluZGlhdG9kYXkuaW4vd29ybGQvc3Rvcnkvc3VwcmVtZS1jb3VydC1leHBhbmRzLWd1bi1yaWdodHMtYWZ0ZXItc3RpbmctbWFzcy1zaG9vdGluZ3MtdXMtMTk2NjEyMi0yMDIyLTA2LTI00gEA?oc=5', '06-24-2022']\n",
            "['Indiatimes.com', 'Indian Techie From Telangana Shot Dead In US While Returning After Dropping Friend At Airport ', 'https://news.google.com/__i/rss/rd/articles/CBMiUmh0dHBzOi8vd3d3LmluZGlhdGltZXMuY29tL25ld3MvaW5kaWEvdGVsYW5nYW5hLXRlY2hpZS1zaG90LWRlYWQtaW4tdXMtNTcyODcwLmh0bWzSAQA?oc=5', '06-22-2022']\n",
            "['The Indian Express', 'Among 3 arrested from Kutch: Key Moosewala shooter got weapons consignment from Pak, probe finds ', 'https://news.google.com/__i/rss/rd/articles/CBMieGh0dHBzOi8vaW5kaWFuZXhwcmVzcy5jb20vYXJ0aWNsZS9jaXRpZXMvZGVsaGkvYW1vbmctMy1hcnJlc3RlZC1rdXRjaC1tb29zZXdhbGEtc2hvb3Rlci13ZWFwb25zLWNvbnNpZ25tZW50LXBhay03OTgwODUwL9IBAA?oc=5', '06-21-2022']\n",
            "['The Hindu', 'Surrendered bird-killing airguns stoke national-level shooting ambitions in Arunachal students ', 'https://news.google.com/__i/rss/rd/articles/CBMipgFodHRwczovL3d3dy50aGVoaW5kdS5jb20vbmV3cy9uYXRpb25hbC9vdGhlci1zdGF0ZXMvc3VycmVuZGVyZWQtYmlyZC1raWxsaW5nLWFpcmd1bnMtc3Rva2UtbmF0aW9uYWwtbGV2ZWwtc2hvb3RpbmctYW1iaXRpb25zLWluLWFydW5hY2hhbC1zdHVkZW50cy9hcnRpY2xlNjU1Mzk1NTcuZWNl0gEA?oc=5', '06-19-2022']\n",
            "['Forbes India', \"A forlorn fight to stop America's gun factories \", 'https://news.google.com/__i/rss/rd/articles/CBMiX2h0dHBzOi8vd3d3LmZvcmJlc2luZGlhLmNvbS9hcnRpY2xlL25ld3MvYS1mb3Jsb3JuLWZpZ2h0LXRvLXN0b3AtYW1lcmljYXMtZ3VuLWZhY3Rvcmllcy83NzMyOS8x0gFjaHR0cHM6Ly93d3cuZm9yYmVzaW5kaWEuY29tL2FtcC9hcnRpY2xlL25ld3MvYS1mb3Jsb3JuLWZpZ2h0LXRvLXN0b3AtYW1lcmljYXMtZ3VuLWZhY3Rvcmllcy83NzMyOS8x?oc=5', '06-16-2022']\n",
            "['India Today', 'Lucknow PUBG murder: Teen took training to use gun, father gave him pistol to fire shots in air, claims family ', 'https://news.google.com/__i/rss/rd/articles/CBMilAFodHRwczovL3d3dy5pbmRpYXRvZGF5LmluL2NpdGllcy9sdWNrbm93L3N0b3J5L2x1Y2tub3ctbmV3cy1wdWJnLW11cmRlci10ZWVuLXVuZGVyd2VudC1ndW4tdHJhaW5pbmctZmlyZWQtc2hvdHMtYWlyLWZhbWlseS1jbGFpbXMtMTk2MjY5My0yMDIyLTA2LTE10gGYAWh0dHBzOi8vd3d3LmluZGlhdG9kYXkuaW4vYW1wL2NpdGllcy9sdWNrbm93L3N0b3J5L2x1Y2tub3ctbmV3cy1wdWJnLW11cmRlci10ZWVuLXVuZGVyd2VudC1ndW4tdHJhaW5pbmctZmlyZWQtc2hvdHMtYWlyLWZhbWlseS1jbGFpbXMtMTk2MjY5My0yMDIyLTA2LTE1?oc=5', '06-15-2022']\n",
            "['The Logical Indian', 'US Mass Shooting: 5 Killed, 16 Injured In Chicago As Wave Of Weekend Gun Violence Continues In America ', 'https://news.google.com/__i/rss/rd/articles/CBMiUGh0dHBzOi8vdGhlbG9naWNhbGluZGlhbi5jb20vdHJlbmRpbmcvZ3VuLXZpb2xlbmNlLWluLWNoaWNhZ28tb3Zlci13ZWVrZW5kLTM2MDA30gEA?oc=5', '06-13-2022']\n",
            "['India Today', 'Fact Check: Two-year-old video of man threatening Muslims with guns goes viral amid Prophet row ', 'https://news.google.com/__i/rss/rd/articles/CBMidmh0dHBzOi8vd3d3LmluZGlhdG9kYXkuaW4vZmFjdC1jaGVjay9zdG9yeS9vbGQtdmlkZW8tbWFuLXRocmVhdGVuLW11c2xpbS13aXRoLWd1bi12aXJhbC1wcm9waGV0LXJvdy0xOTYxNTY5LTIwMjItMDYtMTLSAXpodHRwczovL3d3dy5pbmRpYXRvZGF5LmluL2FtcC9mYWN0LWNoZWNrL3N0b3J5L29sZC12aWRlby1tYW4tdGhyZWF0ZW4tbXVzbGltLXdpdGgtZ3VuLXZpcmFsLXByb3BoZXQtcm93LTE5NjE1NjktMjAyMi0wNi0xMg?oc=5', '06-12-2022']\n",
            "['India Today', 'Cop opens fire near Bangladesh High Commission in Kolkata before shooting self ', 'https://news.google.com/__i/rss/rd/articles/CBMiggFodHRwczovL3d3dy5pbmRpYXRvZGF5LmluL2luZGlhL3N0b3J5L2JhbmdsYWRlc2gtZGVwdXR5LWhpZ2gtY29tbWlzc2lvbi1rb2xrYXRhLXNob3RzLWZpcmVkLXByb3BoZXQtcmVtYXJrcy1yb3ctMTk2MDgyNS0yMDIyLTA2LTEw0gEA?oc=5', '06-10-2022']\n",
            "['Hindustan Times', '16-year-old Lucknow boy who killed mother over PUBG sent to juvenile home ', 'https://news.google.com/__i/rss/rd/articles/CBMihgFodHRwczovL3d3dy5oaW5kdXN0YW50aW1lcy5jb20vaW5kaWEtbmV3cy8xNnllYXJvbGQtbHVja25vdy1ib3ktd2hvLWtpbGxlZC1tb3RoZXItb3Zlci1wdWJnLXNlbnQtdG8tanV2ZW5pbGUtaG9tZS0xMDE2NTQ4MDI0OTQ1NDEuaHRtbNIBAA?oc=5', '06-10-2022']\n",
            "['NDTV', 'Boy, 2, Accidentally Shoots And Kills Father In US ', 'https://news.google.com/__i/rss/rd/articles/CBMicWh0dHBzOi8vd3d3Lm5kdHYuY29tL3dvcmxkLW5ld3MvdXMtZ3VuLXZpb2xlbmNlLTIteWVhci1vbGQtYm95LWFjY2lkZW50YWxseS1zaG9vdHMtYW5kLWtpbGxzLWZhdGhlci1pbi11cy0zMDQ0NDAz0gEA?oc=5', '06-07-2022']\n",
            "['Firstpost', 'Gang wars brazenly out in the open as bosses rule from jails ', 'https://news.google.com/__i/rss/rd/articles/CBMibGh0dHBzOi8vd3d3LmZpcnN0cG9zdC5jb20vb3Bpbmlvbi9nYW5nLXdhcnMtYnJhemVubHktb3V0LWluLXRoZS1vcGVuLWFzLWJvc3Nlcy1ydWxlLWZyb20tamFpbHMtMTA3NjY4NjEuaHRtbNIBAA?oc=5', '06-07-2022']\n",
            "['The Hindu', 'Guns in India: Strict laws, illegal manufacturing hubs & low guns deaths ', 'https://news.google.com/__i/rss/rd/articles/CBMif2h0dHBzOi8vd3d3LnRoZWhpbmR1LmNvbS9uZXdzL25hdGlvbmFsL2d1bnMtaW4taW5kaWEtc3RyaWN0LWxhd3MtaWxsZWdhbC1tYW51ZmFjdHVyaW5nLWh1YnMtbG93LWd1bnMtZGVhdGhzL2FydGljbGU2NTQ3Njc0Ni5lY2XSAQA?oc=5', '06-07-2022']\n",
            "['The Indian Express', 'The mass shootings where stricter gun laws might have made a difference ', 'https://news.google.com/__i/rss/rd/articles/CBMieGh0dHBzOi8vaW5kaWFuZXhwcmVzcy5jb20vYXJ0aWNsZS93b3JsZC90aGUtbWFzcy1zaG9vdGluZ3Mtd2hlcmUtc3RyaWN0ZXItZ3VuLWxhd3MtbWlnaHQtaGF2ZS1tYWRlLWEtZGlmZmVyZW5jZS03OTUzNzE2L9IBAA?oc=5', '06-05-2022']\n",
            "['The Indian Express', \"Suspected terrorist 'snatches' gun, killed in J&K Police camp \", 'https://news.google.com/__i/rss/rd/articles/CBMiamh0dHBzOi8vaW5kaWFuZXhwcmVzcy5jb20vYXJ0aWNsZS9pbmRpYS9zdXNwZWN0ZWQtdGVycm9yaXN0LXNuYXRjaGVzLWd1bi1raWxsZWQtaW4tamstcG9saWNlLWNhbXAtNzM0MzMzMy_SAQA?oc=5', '06-04-2021']\n",
            "['OpIndia', 'Another mass shooting in the USA: Gunman enters Tulsa hospital and kills 4, later kills himself ', 'https://news.google.com/__i/rss/rd/articles/CBMiW2h0dHBzOi8vd3d3Lm9waW5kaWEuY29tLzIwMjIvMDYvbWFzcy1zaG9vdGluZy11c2EtZ3VubWFuLWVudGVycy10dWxzYS1ob3NwaXRhbC1hbmQta2lsbHMtNC_SAQA?oc=5', '06-02-2022']\n",
            "['India TV News', \"Gun-totting terrorist wearing mask walks in, opens fire - Chilling video of Kulgam bank manager's killing \", 'https://news.google.com/__i/rss/rd/articles/CBMinwFodHRwczovL3d3dy5pbmRpYXR2bmV3cy5jb20vbmV3cy9pbmRpYS9ndW4tdG90dGluZy10ZXJyb3Jpc3Qtd2VhcmluZy1tYXNrLXdhbGtzLWluLW9wZW5zLWZpcmUtY2hpbGxpbmctdmlkZW8tb2Yta3VsZ2FtLWJhbmstbWFuYWdlci1zLWtpbGxpbmctMjAyMi0wNi0wMi03ODEzNjDSAQA?oc=5', '06-02-2022']\n",
            "['India Today', 'How illegal weapons, ammunition find its way to gun enthusiasts in Punjab ', 'https://news.google.com/__i/rss/rd/articles/CBMiZWh0dHBzOi8vd3d3LmluZGlhdG9kYXkuaW4vaW5kaWEvc3RvcnkvaWxsZWdhbC13ZWFwb25zLWFtbXVuaXRpb24tZ3VuLXN1cHBseS1wdW5qYWItMTk1NzA5OC0yMDIyLTA2LTAx0gEA?oc=5', '06-01-2022']\n",
            "['The Indian Express', \"Explained: Gun violence's rising toll among US children \", 'https://news.google.com/__i/rss/rd/articles/CBMiamh0dHBzOi8vaW5kaWFuZXhwcmVzcy5jb20vYXJ0aWNsZS9leHBsYWluZWQvZXhwbGFpbmVkLWd1bi12aW9sZW5jZXMtcmlzaW5nLXRvbGwtYW1vbmctdXMtY2hpbGRyZW4tNzk0NjQ1MC_SAQA?oc=5', '06-01-2022']\n",
            "['Times of India', 'The gangs and guns that killed Sidhu Moose Wala ', 'https://news.google.com/__i/rss/rd/articles/CBMifGh0dHBzOi8vdGltZXNvZmluZGlhLmluZGlhdGltZXMuY29tL2luZGlhL3doYXQtc2lkaHUtbW9vc2Utd2FsYXMtbXVyZGVyLXRlbGxzLXVzLWFib3V0LWluZGlhbi1nYW5ncy9hcnRpY2xlc2hvdy85MTkxOTkyOS5jbXPSAXdodHRwczovL20udGltZXNvZmluZGlhLmNvbS9pbmRpYS93aGF0LXNpZGh1LW1vb3NlLXdhbGFzLW11cmRlci10ZWxscy11cy1hYm91dC1pbmRpYW4tZ2FuZ3MvYW1wX2FydGljbGVzaG93LzkxOTE5OTI5LmNtcw?oc=5', '05-31-2022']\n",
            "['The Tribune India', \"22 mass shootings, 374 dead: Here's where the guns came from \", 'https://news.google.com/__i/rss/rd/articles/CBMiaGh0dHBzOi8vd3d3LnRyaWJ1bmVpbmRpYS5jb20vbmV3cy93b3JsZC8yMi1tYXNzLXNob290aW5ncy0zNzQtZGVhZC1oZXJlcy13aGVyZS10aGUtZ3Vucy1jYW1lLWZyb20tMzk4OTMw0gEA?oc=5', '05-28-2022']\n",
            "['OpIndia', 'Gun violence in the US: Indian woman shares her ordeal of being robbed at gunpoint in Atlanta, credits Indian embassy for her safe return ', 'https://news.google.com/__i/rss/rd/articles/CBMifWh0dHBzOi8vd3d3Lm9waW5kaWEuY29tLzIwMjIvMDUvZ3VuLXZpb2xlbmNlLWluLXRoZS11cy1pbmRpYW4td29tYW4tc2hhcmVzLWhlci1vcmRlYWwtb2YtYmVpbmctcm9iYmVkLWF0LWd1bnBvaW50LWluLWF0bGFudGEv0gEA?oc=5', '05-27-2022']\n",
            "['The Indian Express', 'Toronto police kill man carrying gun near schools ', 'https://news.google.com/__i/rss/rd/articles/CBMiYmh0dHBzOi8vaW5kaWFuZXhwcmVzcy5jb20vYXJ0aWNsZS93b3JsZC90b3JvbnRvLXBvbGljZS1raWxsLW1hbi1jYXJyeWluZy1ndW4tbmVhci1zY2hvb2xzLTc5Mzg4MDgv0gEA?oc=5', '05-27-2022']\n",
            "['Economic Times', 'News Live Updates: Texas teen, who shot dead 21 people had troubled childhood ', 'https://news.google.com/__i/rss/rd/articles/CBMic2h0dHBzOi8vZWNvbm9taWN0aW1lcy5pbmRpYXRpbWVzLmNvbS9uZXdzL25ld3NibG9ncy9kYWlseS1uZXdzLWFuZC1sYXRlc3QtdXBkYXRlcy1saXZlLW1heS0yNS9saXZlYmxvZy85MTc3Njk1OC5jbXPSAXdodHRwczovL2Vjb25vbWljdGltZXMuaW5kaWF0aW1lcy5jb20vbmV3cy9uZXdzYmxvZ3MvZGFpbHktbmV3cy1hbmQtbGF0ZXN0LXVwZGF0ZXMtbGl2ZS1tYXktMjUvYW1wX2xpdmVibG9nLzkxNzc2OTU4LmNtcw?oc=5', '05-26-2022']\n",
            "['The Indian Express', 'Texas school shooting: Key facts about gun violence in America ', 'https://news.google.com/__i/rss/rd/articles/CBMiWWh0dHBzOi8vaW5kaWFuZXhwcmVzcy5jb20vYXJ0aWNsZS93b3JsZC9ndW4tdmlvbGVuY2UtaW4tYW1lcmljYS1zY2hvb2wtc2hvb3RpbmdzLTc5MzY5NDkv0gEA?oc=5', '05-26-2022']\n",
            "['The Indian Express', \"Recall: The school shooting in UK's Dunblane that led to stricter gun control laws \", 'https://news.google.com/__i/rss/rd/articles/CBMiaGh0dHBzOi8vaW5kaWFuZXhwcmVzcy5jb20vYXJ0aWNsZS9leHBsYWluZWQvZHVuYmxhbmUtc2Nob29sLXNob290aW5nLXVuaXRlZC1raW5nZG9tLWd1bi1jb250cm9sLTc5MzY5NjYv0gEA?oc=5', '05-26-2022']\n",
            "['The Indian Express', 'Texas school shooting updates: Texas school shooting, America gun laws, Joe Biden on gun laws, US gun regulations, school mass shootings ', 'https://news.google.com/__i/rss/rd/articles/CBMicWh0dHBzOi8vaW5kaWFuZXhwcmVzcy5jb20vYXJ0aWNsZS93b3JsZC90ZXhhcy1zY2hvb2wtc2hvb3RpbmctbGl2ZS11cGRhdGVzLXJvYmItZWxlbWVudGFyeS1zY2hvb2wtdXZhbGRlLTc5MzQ0NzYv0gEA?oc=5', '05-26-2022']\n",
            "['The Indian Express', \"A history of school shootings in US: Teenaged shooters often used parent's licensed weapons \", 'https://news.google.com/__i/rss/rd/articles/CBMieWh0dHBzOi8vaW5kaWFuZXhwcmVzcy5jb20vYXJ0aWNsZS93b3JsZC9oaXN0b3J5LXRleGFzLXNjaG9vbC1zaG9vdGluZ3MtdXMtdGVlbi1zaG9vdGVycy1sZWdhbGx5LWxpY2Vuc2VkLXdlYXBvbnMtNzkzNTQwNC_SAQA?oc=5', '05-25-2022']\n",
            "['The Indian Express', 'Explained: Why do many in the US resist stricter gun laws? ', 'https://news.google.com/__i/rss/rd/articles/CBMiZGh0dHBzOi8vaW5kaWFuZXhwcmVzcy5jb20vYXJ0aWNsZS9leHBsYWluZWQvdXMtdGV4YXMtc2hvb3RpbmctZ3VuLWxhd3Mtb3Bwb3NpdGlvbi1leHBsYWluZWQtNzkzNjMxOS_SAQA?oc=5', '05-25-2022']\n",
            "['India Today', 'Texas school shooting: Teen opened fire on grandma before killing 19 kids, teachers ', 'https://news.google.com/__i/rss/rd/articles/CBMifGh0dHBzOi8vd3d3LmluZGlhdG9kYXkuaW4vd29ybGQvc3RvcnkvdGV4YXMtc2Nob29sLXNob290aW5nLWd1bm1hbi1zaG90LWdyYW5kbW90aGVyLXVzLWd1bi1sYXdzLWpvZS1iaWRlbi0xOTUzNzM5LTIwMjItMDUtMjXSAQA?oc=5', '05-25-2022']\n",
            "['India Today', \"Not AK-47, pistol is now terrorists' weapon of choice for targeted killings in Kashmir | Exclusive \", 'https://news.google.com/__i/rss/rd/articles/CBMiiAFodHRwczovL3d3dy5pbmRpYXRvZGF5LmluL2luZGlhL2phbW11LWFuZC1rYXNobWlyL3N0b3J5L2FrLTQ3LXBpc3RvbC10ZXJyb3Jpc3RzLXBha2lzdGFuLXRhcmdldGVkLWtpbGxpbmdzLWluLWthc2htaXItMTk1MjkxOS0yMDIyLTA1LTIz0gEA?oc=5', '05-23-2022']\n",
            "['Hindustan Times', 'Two poachers killed after they gun down three policemen in Madhya Pradesh ', 'https://news.google.com/__i/rss/rd/articles/CBMiiAFodHRwczovL3d3dy5oaW5kdXN0YW50aW1lcy5jb20vaW5kaWEtbmV3cy90d28tcG9hY2hlcnMta2lsbGVkLWFmdGVyLXRoZXktZ3VuLWRvd24tdGhyZWUtcG9saWNlbWVuLWluLW1hZGh5YS1wcmFkZXNoLTEwMTY1MjU1MzQzOTM0OC5odG1s0gEA?oc=5', '05-15-2022']\n",
            "['India Today', '1 dead, 10 injured after 2 shootings in Chicago ', 'https://news.google.com/__i/rss/rd/articles/CBMiemh0dHBzOi8vd3d3LmluZGlhdG9kYXkuaW4vd29ybGQvc3RvcnkvdW5pdGVkLXN0YXRlcy1zaG9vdGluZy1ndW4tdmlvbGVuY2UtY2FzdWFsdGllcy1jaGljYWdvLXNvdXRoLXNpZGUtMTk0ODMzMy0yMDIyLTA1LTEx0gF-aHR0cHM6Ly93d3cuaW5kaWF0b2RheS5pbi9hbXAvd29ybGQvc3RvcnkvdW5pdGVkLXN0YXRlcy1zaG9vdGluZy1ndW4tdmlvbGVuY2UtY2FzdWFsdGllcy1jaGljYWdvLXNvdXRoLXNpZGUtMTk0ODMzMy0yMDIyLTA1LTEx?oc=5', '05-12-2022']\n",
            "['The Indian Express', 'Number of gun deaths reached record levels in 2020, CDC finds ', 'https://news.google.com/__i/rss/rd/articles/CBMibWh0dHBzOi8vaW5kaWFuZXhwcmVzcy5jb20vYXJ0aWNsZS93b3JsZC9udW1iZXItb2YtZ3VuLWRlYXRocy1yZWFjaGVkLXJlY29yZC1sZXZlbHMtaW4tMjAyMC1jZGMtZmluZHMtNzkxMTA2MC_SAQA?oc=5', '05-11-2022']\n",
            "['The Quint', \"'Romanticisation of Guns': What Young Indian Americans Think About US' Gun Laws \", 'https://news.google.com/__i/rss/rd/articles/CBMiX2h0dHBzOi8vd3d3LnRoZXF1aW50LmNvbS91cy1ucmktbmV3cy9yb21hbnRpY2lzYXRpb24tZ3Vucy15b3VuZy1pbmRpYW4tYW1lcmljYW5zLXRoaW5rLWd1bi1sYXdz0gEA?oc=5', '04-20-2022']\n",
            "['India Today', 'Jahangirpuri violence: My son snatched gun, shot in anger, no one was hurt, says mother of accused | Exclusive ', 'https://news.google.com/__i/rss/rd/articles/CBMiemh0dHBzOi8vd3d3LmluZGlhdG9kYXkuaW4vaW5kaWEvc3RvcnkvamFoYW5naXJwdXJpLXZpb2xlbmNlLWd1bi1hY2N1c2VkLW1vdGhlci1leGNsdXNpdmUtY29tbXVuYWwtY2xhc2gtMTkzODg4NS0yMDIyLTA0LTE40gEA?oc=5', '04-18-2022']\n",
            "['NDTV', '21-Year-Old Indian Student Shot Dead At Subway Station In Canada ', 'https://news.google.com/__i/rss/rd/articles/CBMicGh0dHBzOi8vd3d3Lm5kdHYuY29tL2luZGlhLW5ld3MvaW5kaWFuLXN0dWRlbnQta2lsbGVkLWluLWNhbmFkYXMtdG9yb250by1zLWphaXNoYW5rYXItb2ZmZXJzLWNvbmRvbGVuY2VzLTI4NzI2NzDSAQA?oc=5', '04-08-2022']\n",
            "['India Today', 'Mumbai: 25-year-old share trader shoots self dead with illegal gun ', 'https://news.google.com/__i/rss/rd/articles/CBMiggFodHRwczovL3d3dy5pbmRpYXRvZGF5LmluL2NpdGllcy9tdW1iYWkvc3RvcnkvbXVtYmFpLTI1LXllYXItb2xkLXNoYXJlLXRyYWRlci1zaG9vdHMtc2VsZi1kZWFkLXdpdGgtaWxsZWdhbC1ndW4tMTkxNjYxOS0yMDIyLTAyLTIz0gGGAWh0dHBzOi8vd3d3LmluZGlhdG9kYXkuaW4vYW1wL2NpdGllcy9tdW1iYWkvc3RvcnkvbXVtYmFpLTI1LXllYXItb2xkLXNoYXJlLXRyYWRlci1zaG9vdHMtc2VsZi1kZWFkLXdpdGgtaWxsZWdhbC1ndW4tMTkxNjYxOS0yMDIyLTAyLTIz?oc=5', '02-23-2022']\n"
          ]
        }
      ]
    },
    {
      "cell_type": "code",
      "source": [
        "import csv\n",
        " \n",
        "header = [\"Name of the article\",\"Title of the news\",\"URL link\",\"Published date\"]\n",
        " \n",
        "# opening the csv file in 'a+' mode\n",
        "file = open('news.csv', 'a+', newline ='')\n",
        " \n",
        "# writing the data into the file\n",
        "with file:\n",
        "    writer = csv.DictWriter(file, fieldnames = header)\n",
        "     \n",
        "    # writing data row-wise into the csv file\n",
        "    writer.writeheader()\n",
        "    write.writerows(data)"
      ],
      "metadata": {
        "id": "irQkcTqr286G"
      },
      "execution_count": null,
      "outputs": []
    },
    {
      "cell_type": "code",
      "source": [
        "output_dir = 'output'\n",
        "\n",
        "try:\n",
        "  os.mkdir(path+output_dir)\n",
        "  os.mkdir(path+output_dir+'/html_files')\n",
        "  os.mkdir(path+output_dir+'/text_files')\n",
        "except:\n",
        "  print(end=\"\")"
      ],
      "metadata": {
        "id": "zJE5IRsgIqT4"
      },
      "execution_count": null,
      "outputs": []
    },
    {
      "cell_type": "code",
      "source": [
        "for i in range(len(news)):\n",
        "  url = news[i][2]\n",
        "  r = requests.get(url, allow_redirects=True)\n",
        "  open(path + output_dir + '/html_files/article' + str(i+1) + '.html', 'wb').write(r.content)\n",
        "\n",
        "print(\"Downloaded all news artile in html format\")"
      ],
      "metadata": {
        "colab": {
          "base_uri": "https://localhost:8080/"
        },
        "id": "1psvpcrMFI6Q",
        "outputId": "a9a53226-2741-465b-e3a3-f876d5f78542"
      },
      "execution_count": null,
      "outputs": [
        {
          "output_type": "stream",
          "name": "stdout",
          "text": [
            "Downloaded all news artile in html format\n"
          ]
        }
      ]
    },
    {
      "cell_type": "code",
      "source": [
        "files = os.listdir(path+output_dir+'/html_files')\n",
        "texts = []\n",
        "\n",
        "for eachFile in files:\n",
        "  file = path+output_dir+'/html_files/' + eachFile\n",
        "  if(os.path.isfile(file)):\n",
        "    fileName = open(file, 'r+', encoding='utf-8')\n",
        "    data = fileName.read()\n",
        "\n",
        "    soup = BeautifulSoup(data,'html.parser')\n",
        "\n",
        "    # to remove formualae present in each document\n",
        "    for formulae in soup('semantics'):\n",
        "      formulae.decompose()\n",
        "    text_data = \"\"\n",
        "\n",
        "    #consider texts between only p,h1,h2,h3,h4 tags\n",
        "    for data in soup.find_all(['p','h1','h2','h3','h4']):\n",
        "      text_data = text_data + data.text + \" \"\n",
        "\n",
        "    #to remove utf-8 data\n",
        "    text_data= str(text_data.encode('ascii','ignore').decode('ascii'))\n",
        "    text_data = text_data.split()\n",
        "    formatted_data = \" \".join(text_data)\n",
        "\n",
        "    # regex to remove extra spaces between the words\n",
        "    formatted_data = re.sub('\\s\\s+', ' ', formatted_data)\n",
        "    formatted_data = re.sub(\"[\\\"#!$%&()*+/:;<=>?@[\\]_`{|}^~?-]\",\"\",formatted_data)\n",
        "    formatted_data = re.sub('(?<=[^0-9])[.,\\']|[.,\\'](?=[^0-9])', '',formatted_data)\n",
        "    formatted_data = formatted_data.replace(\",\",\"\")\n",
        "    formatted_data = formatted_data .replace(\".\",\"\")\n",
        "    formatted_data = formatted_data.lower()\n",
        "    texts.append(formatted_data)\n",
        "\n",
        "    newFileName = eachFile.split(\".html\")\n",
        "    f = open(path + output_dir + '/text_files/' + newFileName[0] + '.txt', 'w+')\n",
        "    f.write(formatted_data)\n",
        "    f.close()\n",
        "\n",
        "print(\"Text document generated for all news article\")"
      ],
      "metadata": {
        "colab": {
          "base_uri": "https://localhost:8080/"
        },
        "id": "TEXXemPpJkWv",
        "outputId": "b26beb92-4c38-4092-893c-4772e5a8550e"
      },
      "execution_count": null,
      "outputs": [
        {
          "output_type": "stream",
          "name": "stdout",
          "text": [
            "Text document generated for all news article\n"
          ]
        }
      ]
    },
    {
      "cell_type": "markdown",
      "source": [
        "# Evaluation with each model"
      ],
      "metadata": {
        "id": "81oYUs7H43wl"
      }
    },
    {
      "cell_type": "code",
      "source": [
        "def convert_examples_to_features(text, tokenizer, max_seq_length):\n",
        "    token_batch = []\n",
        "    tokens = tokenizer.tokenize(text, truncation=True, max_length=max_seq_length)"
      ],
      "metadata": {
        "id": "pGRBjt1M-jnR"
      },
      "execution_count": null,
      "outputs": []
    },
    {
      "cell_type": "code",
      "source": [
        "def evaluate_crf(model, evaluate_X, evaluate_Y, tokenizer, cuda_available, batch_size, max_seq_length, model_type, lr, epochs, path, get_accuracy):\n",
        "\n",
        "    model.eval()\n",
        "    num_samples = len(evaluate_X)\n",
        "    evaluate_set = GunViolenceDataset(evaluate_X, evaluate_Y)\n",
        "    evaluate_generator = DataLoader(\n",
        "        evaluate_set,\n",
        "        batch_size=1,\n",
        "        shuffle=True,\n",
        "    )\n",
        "    num_of_tp = num_of_fn = num_of_fp = num_of_tn = 0\n",
        "\n",
        "    for i, (evaluate_x, evaluate_y) in enumerate(evaluate_generator):\n",
        "        tokens, labels = convert_examples_to_features(evaluate_x, evaluate_y, tokenizer, max_seq_length)\n",
        "\n",
        "        indexed_tokens = [tokenizer.convert_tokens_to_ids(token) for token in tokens]\n",
        "        segments_ids = [[0] * len(indexed_token) for indexed_token in indexed_tokens]\n",
        "\n",
        "        if cuda_available:\n",
        "            segments_tensors = torch.tensor(segments_ids).to('cuda')\n",
        "            tokens_tensor = torch.tensor(indexed_tokens).to('cuda')\n",
        "            labels = torch.tensor(labels).to('cuda')\n",
        "        else:\n",
        "            segments_tensors = torch.tensor(segments_ids)\n",
        "            tokens_tensor = torch.tensor(indexed_tokens)\n",
        "            labels = torch.tensor(labels)\n",
        "\n",
        "        with torch.no_grad():\n",
        "            y_pred, logits, loss = model(tokens_tensor, segments_tensors, labels)\n",
        "            normalized_probs = nn.functional.softmax(logits, dim=1)[0]\n",
        "            results = y_pred[0]\n",
        "\n",
        "            # get the real target\n",
        "            original = ''\n",
        "            for i, (x, y) in enumerate(zip(evaluate_x[0].split(), evaluate_y[0].split())):\n",
        "                if y[0] == 'B':\n",
        "                    original = x + ' '\n",
        "                    index = i\n",
        "                    while index + 1 < len(evaluate_y[0].split()) and evaluate_y[0].split()[index + 1][0] == 'I':\n",
        "                        original += '{} '.format(evaluate_x[0].split()[index + 1])\n",
        "                        index += 1\n",
        "                    break\n",
        "            original = original.strip()\n",
        "\n",
        "            probabilities = []\n",
        "            predictions = []\n",
        "            prediction = []\n",
        "\n",
        "            for token, tag, prob in zip(tokens[0], results, normalized_probs):\n",
        "                if tag == 0:\n",
        "                    # tag == 'B'\n",
        "                    probabilities.append(prob)\n",
        "\n",
        "                    if len(prediction) != 0:\n",
        "                        predictions.append(prediction)\n",
        "                        prediction = []\n",
        "                    prediction.append(token)\n",
        "                elif tag == 1:\n",
        "                    # tag == 'I'\n",
        "                    prediction.append(token)\n",
        "            if len(prediction) != 0:\n",
        "                predictions.append(prediction)\n",
        "\n",
        "            # one sentence might generate multiple targets, eg. shooters or victims\n",
        "            # we need to pick the most possible one, which is the one has the highest probability in 'B' tag\n",
        "            max_prob = -math.inf\n",
        "            max_prob_ind = 0\n",
        "            for i, prob in enumerate(probabilities):\n",
        "                if max_prob < prob[0]:\n",
        "                    max_prob_ind = i\n",
        "                    max_prob = prob[0]\n",
        "\n",
        "            if(len(predictions)!=0):\n",
        "                result.append(tokenizer.convert_tokens_to_string(predictions[max_prob_ind]))\n",
        "            else:\n",
        "                result.append('')\n",
        "    \n",
        "    return result    "
      ],
      "metadata": {
        "id": "7LSE_H_bElp1"
      },
      "execution_count": null,
      "outputs": []
    },
    {
      "cell_type": "code",
      "source": [
        "def evaluate(model, evaluate_X, evaluate_Y, tokenizer, cuda_available, batch_size, max_seq_length, model_type, lr, epochs, path, get_accuracy):\n",
        "\n",
        "    model.eval()\n",
        "    num_samples = len(evaluate_X)\n",
        "    evaluate_set = GunViolenceDataset(evaluate_X, evaluate_Y)\n",
        "    evaluate_generator = DataLoader(\n",
        "        evaluate_set,\n",
        "        batch_size=1,\n",
        "        shuffle=True,\n",
        "    )\n",
        "    result = []\n",
        "\n",
        "    for i, (evaluate_x, evaluate_y) in enumerate(evaluate_generator):\n",
        "        tokens, labels = convert_examples_to_features(evaluate_x, evaluate_y, tokenizer, max_seq_length)\n",
        "\n",
        "        indexed_tokens = [tokenizer.convert_tokens_to_ids(token) for token in tokens]\n",
        "        segments_ids = [[0] * len(indexed_token) for indexed_token in indexed_tokens]\n",
        "\n",
        "        if cuda_available:\n",
        "            segments_tensors = torch.tensor(segments_ids).to('cuda')\n",
        "            tokens_tensor = torch.tensor(indexed_tokens).to('cuda')\n",
        "            labels = torch.tensor(labels).to('cuda')\n",
        "        else:\n",
        "            segments_tensors = torch.tensor(segments_ids)\n",
        "            tokens_tensor = torch.tensor(indexed_tokens)\n",
        "            labels = torch.tensor(labels)\n",
        "\n",
        "        with torch.no_grad():\n",
        "            y_pred, logits, loss = model(tokens_tensor, segments_tensors, labels)\n",
        "            normalized_probs = nn.functional.softmax(logits, dim=1)[0]\n",
        "            results = y_pred[0]\n",
        "\n",
        "            # get the real target\n",
        "            original = ''\n",
        "            for i, (x, y) in enumerate(zip(evaluate_x[0].split(), evaluate_y[0].split())):\n",
        "                if y[0] == 'B':\n",
        "                    original = x + ' '\n",
        "                    index = i\n",
        "                    while index + 1 < len(evaluate_y[0].split()) and evaluate_y[0].split()[index + 1][0] == 'I':\n",
        "                        original += '{} '.format(evaluate_x[0].split()[index + 1])\n",
        "                        index += 1\n",
        "                    break\n",
        "            original = original.strip()\n",
        "\n",
        "            probabilities = []\n",
        "            predictions = []\n",
        "            prediction = []\n",
        "\n",
        "            for token, tag, prob in zip(tokens[0], results, normalized_probs):\n",
        "                if tag == 0:\n",
        "                    # tag == 'B'\n",
        "                    probabilities.append(prob)\n",
        "\n",
        "                    if len(prediction) != 0:\n",
        "                        predictions.append(prediction)\n",
        "                        prediction = []\n",
        "                    prediction.append(token)\n",
        "                elif tag == 1:\n",
        "                    # tag == 'I'\n",
        "                    prediction.append(token)\n",
        "            if len(prediction) != 0:\n",
        "                predictions.append(prediction)\n",
        "\n",
        "            # one sentence might generate multiple targets, eg. shooters or victims\n",
        "            # we need to pick the most possible one, which is the one has the highest probability in 'B' tag\n",
        "            max_prob = -math.inf\n",
        "            max_prob_ind = 0\n",
        "            for i, prob in enumerate(probabilities):\n",
        "                if max_prob < prob[0]:\n",
        "                    max_prob_ind = i\n",
        "                    max_prob = prob[0]\n",
        "    \n",
        "            if(len(predictions)!=0):\n",
        "                result.append(tokenizer.convert_tokens_to_string(predictions[max_prob_ind]))\n",
        "            else:\n",
        "                result.append('')\n",
        "    \n",
        "    return result        "
      ],
      "metadata": {
        "id": "bJq1YjOf67R2"
      },
      "execution_count": null,
      "outputs": []
    },
    {
      "cell_type": "code",
      "source": [
        "TRANSFORMER_PATH = 'huggingface/pytorch-transformers'\n",
        "tokenizer = torch.hub.load(TRANSFORMER_PATH, 'tokenizer', 'bert-base-cased')\n",
        "cuda_available = torch.cuda.is_available()\n",
        "batch_size = 40\n",
        "max_seq_length = 256\n",
        "lr = 1e-4\n",
        "epochs = 7"
      ],
      "metadata": {
        "id": "pTGzkI9cBra2"
      },
      "execution_count": null,
      "outputs": []
    },
    {
      "cell_type": "markdown",
      "source": [
        "BERT_Linear"
      ],
      "metadata": {
        "id": "SE0z-oa761hG"
      }
    },
    {
      "cell_type": "code",
      "source": [
        "output_path = path + 'output_model/victim_linear'\n",
        "model = torch.load(output_path)\n",
        "print(evaluate(model, texts, [], tokenizer, cuda_available, batch_size, max_seq_length,'Linear', lr, epochs, output_path))"
      ],
      "metadata": {
        "id": "ECAHGjyLfBIl"
      },
      "execution_count": null,
      "outputs": []
    },
    {
      "cell_type": "code",
      "source": [
        "output_path = path + 'output_model/shooter_linear'\n",
        "model = torch.load(output_path)\n",
        "print(evaluate(model, texts, [], tokenizer, cuda_available, batch_size, max_seq_length,'Linear', lr, epochs, output_path))"
      ],
      "metadata": {
        "id": "uAZogv507e8H"
      },
      "execution_count": null,
      "outputs": []
    },
    {
      "cell_type": "markdown",
      "source": [
        "BERT_LSTM"
      ],
      "metadata": {
        "id": "kiFHXeY47B7o"
      }
    },
    {
      "cell_type": "code",
      "source": [
        "output_path = path + 'output_model/victim_lstm'\n",
        "model = torch.load(output_path)\n",
        "print(evaluate(model, texts, [], tokenizer, cuda_available, batch_size, max_seq_length,'LSTM', lr, epochs, output_path))"
      ],
      "metadata": {
        "id": "3BLemXG5fBLK"
      },
      "execution_count": null,
      "outputs": []
    },
    {
      "cell_type": "code",
      "source": [
        "output_path = path + 'output_model/shooter_lstm'\n",
        "model = torch.load(output_path)\n",
        "print(evaluate(model, texts, [], tokenizer, cuda_available, batch_size, max_seq_length,'LSTM', lr, epochs, output_path))"
      ],
      "metadata": {
        "id": "z2Cc6L597faJ"
      },
      "execution_count": null,
      "outputs": []
    },
    {
      "cell_type": "markdown",
      "source": [
        "BERT_BiLSTM"
      ],
      "metadata": {
        "id": "Aw-yhPeu7EY4"
      }
    },
    {
      "cell_type": "code",
      "source": [
        "output_path = path + 'output_model/victim_bilstm'\n",
        "model = torch.load(output_path)\n",
        "print(evaluate(model, texts, [], tokenizer, cuda_available, batch_size, max_seq_length,'BiLSTM', lr, epochs, output_path))"
      ],
      "metadata": {
        "id": "0u3lqYUa7Ejo"
      },
      "execution_count": null,
      "outputs": []
    },
    {
      "cell_type": "code",
      "source": [
        "output_path = path + 'output_model/shooter_Bilstm'\n",
        "model = torch.load(output_path)\n",
        "print(evaluate(model, texts, [], tokenizer, cuda_available, batch_size, max_seq_length,'BiLSTM', lr, epochs, output_path))"
      ],
      "metadata": {
        "id": "7_oIDMqF7f9G"
      },
      "execution_count": null,
      "outputs": []
    },
    {
      "cell_type": "markdown",
      "source": [
        "BERT_CRF_Linear"
      ],
      "metadata": {
        "id": "arSzx6Jf7Ls3"
      }
    },
    {
      "cell_type": "code",
      "source": [
        "output_path = path + 'output_model/victim_linear_crf'\n",
        "model = torch.load(output_path)\n",
        "print(evaluate_crf(model, texts, [], tokenizer, cuda_available, batch_size, max_seq_length,'Linear', lr, epochs, output_path))"
      ],
      "metadata": {
        "id": "GWD8Hahq7L0w"
      },
      "execution_count": null,
      "outputs": []
    },
    {
      "cell_type": "code",
      "source": [
        "output_path = path + 'output_model/shooter_linear_crf'\n",
        "model = torch.load(output_path)\n",
        "print(evaluate_crf(model, texts, [], tokenizer, cuda_available, batch_size, max_seq_length,'Linear', lr, epochs, output_path))"
      ],
      "metadata": {
        "id": "krvVZMij7gl3"
      },
      "execution_count": null,
      "outputs": []
    },
    {
      "cell_type": "markdown",
      "source": [
        "BERT_CRF_LSTM"
      ],
      "metadata": {
        "id": "ZafNXrgW7P3u"
      }
    },
    {
      "cell_type": "code",
      "source": [
        "output_path = path + 'output_model/victim_lstm_crf'\n",
        "model = torch.load(output_path)\n",
        "print(evaluate_crf(model, texts, [], tokenizer, cuda_available, batch_size, max_seq_length,'LSTM', lr, epochs, output_path))"
      ],
      "metadata": {
        "id": "JwpdReHT7XFu"
      },
      "execution_count": null,
      "outputs": []
    },
    {
      "cell_type": "code",
      "source": [
        "output_path = path + 'output_model/shooter_lstm_crf'\n",
        "model = torch.load(output_path)\n",
        "print(evaluate_crf(model, texts, [], tokenizer, cuda_available, batch_size, max_seq_length,'LSTM', lr, epochs, output_path))"
      ],
      "metadata": {
        "id": "0JlHs0w37hCm"
      },
      "execution_count": null,
      "outputs": []
    },
    {
      "cell_type": "markdown",
      "source": [
        "BERT_CRF_BiLSTM"
      ],
      "metadata": {
        "id": "KdA2lwks7VNm"
      }
    },
    {
      "cell_type": "code",
      "source": [
        "output_path = path + 'output_model/victim_bilstm_crf'\n",
        "model = torch.load(output_path)\n",
        "print(evaluate_crf(model, texts, [], tokenizer, cuda_available, batch_size, max_seq_length,'BiLSTM', lr, epochs, output_path))"
      ],
      "metadata": {
        "id": "eAb92hbr7XpW"
      },
      "execution_count": null,
      "outputs": []
    },
    {
      "cell_type": "code",
      "source": [
        "output_path = path + 'output_model/shooter_bilstm_crf'\n",
        "model = torch.load(output_path)\n",
        "print(evaluate_crf(model, texts, [], tokenizer, cuda_available, batch_size, max_seq_length,'BiLSTM', lr, epochs, output_path))"
      ],
      "metadata": {
        "id": "U-ukj5kR7hqW"
      },
      "execution_count": null,
      "outputs": []
    }
  ]
}